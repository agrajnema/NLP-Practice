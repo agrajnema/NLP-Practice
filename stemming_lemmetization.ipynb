{
 "cells": [
  {
   "cell_type": "code",
   "execution_count": 6,
   "metadata": {},
   "outputs": [],
   "source": [
    "words = ['eating', 'eat', 'eaten', 'eats', 'program', 'programs', 'programming', 'sentences', 'sentencing', 'sentenced', 'history', 'play', 'player', 'playing']"
   ]
  },
  {
   "cell_type": "code",
   "execution_count": 7,
   "metadata": {},
   "outputs": [
    {
     "name": "stdout",
     "output_type": "stream",
     "text": [
      "eating--->eat\n",
      "eat--->eat\n",
      "eaten--->eaten\n",
      "eats--->eat\n",
      "program--->program\n",
      "programs--->program\n",
      "programming--->program\n",
      "sentences--->sentenc\n",
      "sentencing--->sentenc\n",
      "sentenced--->sentenc\n",
      "history--->histori\n",
      "play--->play\n",
      "player--->player\n",
      "playing--->play\n"
     ]
    }
   ],
   "source": [
    "#Stemming - process of reducing a word to its base or root form, typically by removing suffixes or prefixes. \n",
    "# The root form or stem may not necessarily be a valid word. Purpose is to normalize the words so that different forms of the same word are treated equivalent\n",
    "\n",
    "from nltk.stem import PorterStemmer\n",
    "stemmer = PorterStemmer()\n",
    "\n",
    "for word in words:\n",
    "    print(word + '--->' + stemmer.stem(word))\n"
   ]
  },
  {
   "cell_type": "code",
   "execution_count": 8,
   "metadata": {},
   "outputs": [
    {
     "name": "stdout",
     "output_type": "stream",
     "text": [
      "eating--->eating\n",
      "eat--->eat\n",
      "eaten--->eaten\n",
      "eats--->eats\n",
      "program--->program\n",
      "programs--->program\n",
      "programming--->programming\n",
      "sentences--->sentence\n",
      "sentencing--->sentencing\n",
      "sentenced--->sentenced\n",
      "history--->history\n",
      "play--->play\n",
      "player--->player\n",
      "playing--->playing\n"
     ]
    }
   ],
   "source": [
    "#Lemmatization - It outs something called 'lemma' which is a root word rather than root stem. We get a valid word as an output. \n",
    "# WordNetLemmatizer is a wrapper around wordnet corpus. This is slower than stemming.\n",
    "\n",
    "from nltk.stem import WordNetLemmatizer\n",
    "lemmatizer = WordNetLemmatizer()\n",
    "\n",
    "for word in words:\n",
    "    print(word + '--->' + lemmatizer.lemmatize(word))"
   ]
  },
  {
   "cell_type": "code",
   "execution_count": 9,
   "metadata": {},
   "outputs": [
    {
     "name": "stdout",
     "output_type": "stream",
     "text": [
      "eating--->eat\n",
      "eat--->eat\n",
      "eaten--->eat\n",
      "eats--->eat\n",
      "program--->program\n",
      "programs--->program\n",
      "programming--->program\n",
      "sentences--->sentence\n",
      "sentencing--->sentence\n",
      "sentenced--->sentence\n",
      "history--->history\n",
      "play--->play\n",
      "player--->player\n",
      "playing--->play\n"
     ]
    }
   ],
   "source": [
    "# Lemmatize has another parameter named 'pos'\n",
    "# Default pos is 'n' --> noun, other values are 'a' for adjective, 'v' for verb, 'r' for adverb\n",
    "\n",
    "for word in words:\n",
    "    print(word + '--->' + lemmatizer.lemmatize(word, pos='v'))"
   ]
  },
  {
   "cell_type": "code",
   "execution_count": null,
   "metadata": {},
   "outputs": [],
   "source": []
  }
 ],
 "metadata": {
  "kernelspec": {
   "display_name": "base",
   "language": "python",
   "name": "python3"
  },
  "language_info": {
   "codemirror_mode": {
    "name": "ipython",
    "version": 3
   },
   "file_extension": ".py",
   "mimetype": "text/x-python",
   "name": "python",
   "nbconvert_exporter": "python",
   "pygments_lexer": "ipython3",
   "version": "3.12.4"
  }
 },
 "nbformat": 4,
 "nbformat_minor": 2
}
