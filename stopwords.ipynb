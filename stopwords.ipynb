{
 "cells": [
  {
   "cell_type": "code",
   "execution_count": 1,
   "metadata": {},
   "outputs": [],
   "source": [
    "import nltk"
   ]
  },
  {
   "cell_type": "code",
   "execution_count": 18,
   "metadata": {},
   "outputs": [],
   "source": [
    "from nltk.stem import PorterStemmer\n",
    "from nltk.stem import WordNetLemmatizer\n",
    "from nltk.corpus import stopwords"
   ]
  },
  {
   "cell_type": "code",
   "execution_count": 14,
   "metadata": {},
   "outputs": [],
   "source": [
    "english_stopwords = stopwords.words('ENGLISH')  #available for multiple languages"
   ]
  },
  {
   "cell_type": "code",
   "execution_count": 11,
   "metadata": {},
   "outputs": [],
   "source": [
    "random_text = \"\"\"The wind whispered through the trees as the sun dipped below the horizon, casting long shadows across the open field. \n",
    "Birds, silhouetted against the vibrant hues of orange and purple, soared above, their wings slicing through the cool evening air. \n",
    "In the distance, a lone figure walked slowly, their footsteps barely audible on the soft grass, as if they, too, were in sync with the stillness of the moment. \n",
    "Nature seemed to hold its breath, waiting, watching, in a quiet dance of twilight's embrace.\n",
    "\"\"\""
   ]
  },
  {
   "cell_type": "code",
   "execution_count": 13,
   "metadata": {},
   "outputs": [],
   "source": [
    "sentences= nltk.sent_tokenize(random_text)"
   ]
  },
  {
   "cell_type": "code",
   "execution_count": 15,
   "metadata": {},
   "outputs": [],
   "source": [
    "stemmer = PorterStemmer()"
   ]
  },
  {
   "cell_type": "code",
   "execution_count": 17,
   "metadata": {},
   "outputs": [
    {
     "name": "stdout",
     "output_type": "stream",
     "text": [
      "['wind whisper tree sun dip horizon , cast long shadow across open field .', 'bird , silhouet vibrant hue orang purpl , soar , wing slice cool even air .', 'distanc , lone figur walk slowli , footstep bare audibl soft grass , , , sync still moment .', \"natur seem hold breath , wait , watch , quiet danc twilight 's embrac .\"]\n"
     ]
    }
   ],
   "source": [
    "# Remove stop words and apply stemming\n",
    "\n",
    "for i in range(len(sentences)):\n",
    "    words = nltk.word_tokenize(sentences[i])\n",
    "\n",
    "    # for word in words:\n",
    "    #     if(word not in english_stopwords):\n",
    "    #         temp_word = stemmer.stem(word)\n",
    "\n",
    "    words = [stemmer.stem(word) for word in words if word not in set(english_stopwords)]  # look for unique stop words and assign the words in sentences which are not stop words, and apply stemming on those words\n",
    "    sentences[i] = ' '.join(words) # convert words into sentences\n",
    "\n",
    "print(sentences)"
   ]
  },
  {
   "cell_type": "code",
   "execution_count": 21,
   "metadata": {},
   "outputs": [
    {
     "name": "stdout",
     "output_type": "stream",
     "text": [
      "['the wind whispered tree sun dipped horizon , casting long shadow across open field .', 'bird , silhouetted vibrant hue orange purple , soared , wing slicing cool evening air .', 'in distance , lone figure walked slowly , footstep barely audible soft grass , , , sync stillness moment .', \"nature seemed hold breath , waiting , watching , quiet dance twilight 's embrace .\"]\n"
     ]
    }
   ],
   "source": [
    "lemmatizer = WordNetLemmatizer()\n",
    "sentences= nltk.sent_tokenize(random_text)\n",
    "\n",
    "for i in range(len(sentences)):\n",
    "    words = nltk.word_tokenize(sentences[i])\n",
    "\n",
    "    # for word in words:\n",
    "    #     if(word not in english_stopwords):\n",
    "    #         temp_word = stemmer.stem(word)\n",
    "\n",
    "    words = [lemmatizer.lemmatize(word.lower()) for word in words if word not in set(english_stopwords)]  # look for unique stop words and assign the words in sentences which are not stop words, and apply lemmatization on those words\n",
    "    sentences[i] = ' '.join(words) # convert words into sentences\n",
    "\n",
    "print(sentences)"
   ]
  },
  {
   "cell_type": "code",
   "execution_count": null,
   "metadata": {},
   "outputs": [],
   "source": []
  }
 ],
 "metadata": {
  "kernelspec": {
   "display_name": "base",
   "language": "python",
   "name": "python3"
  },
  "language_info": {
   "codemirror_mode": {
    "name": "ipython",
    "version": 3
   },
   "file_extension": ".py",
   "mimetype": "text/x-python",
   "name": "python",
   "nbconvert_exporter": "python",
   "pygments_lexer": "ipython3",
   "version": "3.12.4"
  }
 },
 "nbformat": 4,
 "nbformat_minor": 2
}
